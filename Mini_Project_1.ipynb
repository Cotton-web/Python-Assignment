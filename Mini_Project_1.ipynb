{
  "nbformat": 4,
  "nbformat_minor": 0,
  "metadata": {
    "colab": {
      "provenance": [],
      "authorship_tag": "ABX9TyNBNMaWb3c/6rM/CIM1ZrXN",
      "include_colab_link": true
    },
    "kernelspec": {
      "name": "python3",
      "display_name": "Python 3"
    },
    "language_info": {
      "name": "python"
    }
  },
  "cells": [
    {
      "cell_type": "markdown",
      "metadata": {
        "id": "view-in-github",
        "colab_type": "text"
      },
      "source": [
        "<a href=\"https://colab.research.google.com/github/Cotton-web/Python-Assignment/blob/main/Mini_Project_1.ipynb\" target=\"_parent\"><img src=\"https://colab.research.google.com/assets/colab-badge.svg\" alt=\"Open In Colab\"/></a>"
      ]
    },
    {
      "cell_type": "markdown",
      "source": [
        "Q1. L is a list defined as L= [11, 12, 13, 14].\n",
        "\n",
        "(i) WAP to add 50 and 60 to L.\n"
      ],
      "metadata": {
        "id": "rMJDYqGa0mOs"
      }
    },
    {
      "cell_type": "code",
      "source": [
        "L = [11, 12, 13, 14]\n",
        "#Method 1\n",
        "L.append(50)\n",
        "L.append(60)\n",
        "print(L)"
      ],
      "metadata": {
        "colab": {
          "base_uri": "https://localhost:8080/"
        },
        "id": "CGPa7EJS1N9Q",
        "outputId": "9cdfd2a5-7fdc-450a-c4ae-fe5397fb4273"
      },
      "execution_count": 3,
      "outputs": [
        {
          "output_type": "stream",
          "name": "stdout",
          "text": [
            "[11, 12, 13, 14, 50, 60]\n"
          ]
        }
      ]
    },
    {
      "cell_type": "code",
      "source": [
        "#Method 2\n",
        "L = [11,12,13,14]\n",
        "L.extend([50,60])\n",
        "print(L)"
      ],
      "metadata": {
        "colab": {
          "base_uri": "https://localhost:8080/"
        },
        "id": "bm5GKTkO1l9Q",
        "outputId": "ad3fc5ad-bef4-413c-bdae-b0a78e564dbc"
      },
      "execution_count": 2,
      "outputs": [
        {
          "output_type": "stream",
          "name": "stdout",
          "text": [
            "[11, 12, 13, 14, 50, 60]\n"
          ]
        }
      ]
    },
    {
      "cell_type": "markdown",
      "source": [
        "(ii) WAP to remove 11 and 13 from L.\n"
      ],
      "metadata": {
        "id": "C4Ac3EsO0uUc"
      }
    },
    {
      "cell_type": "code",
      "source": [
        "L = [11, 12, 13, 14]\n",
        "del(L[0], L[2])\n",
        "print(L)"
      ],
      "metadata": {
        "colab": {
          "base_uri": "https://localhost:8080/"
        },
        "id": "L-jZXvOm19AR",
        "outputId": "60cca349-c00f-4f38-dbf5-40b84244a94e"
      },
      "execution_count": 8,
      "outputs": [
        {
          "output_type": "stream",
          "name": "stdout",
          "text": [
            "[12, 13]\n"
          ]
        }
      ]
    },
    {
      "cell_type": "markdown",
      "source": [
        "(iii) WAP to sort L in ascending order.\n"
      ],
      "metadata": {
        "id": "NpeuJc2W0w2W"
      }
    },
    {
      "cell_type": "code",
      "source": [
        "L = [11, 12, 13, 14]\n",
        "L.sort()\n",
        "print(L)"
      ],
      "metadata": {
        "colab": {
          "base_uri": "https://localhost:8080/"
        },
        "id": "Rf6J_ugr2anb",
        "outputId": "c95e6c34-0b98-4abb-a408-81e8ba8ad77d"
      },
      "execution_count": 9,
      "outputs": [
        {
          "output_type": "stream",
          "name": "stdout",
          "text": [
            "[11, 12, 13, 14]\n"
          ]
        }
      ]
    },
    {
      "cell_type": "markdown",
      "source": [
        "(iv) WAP to sort L in descending order.\n"
      ],
      "metadata": {
        "id": "3sMnhwAF0zHv"
      }
    },
    {
      "cell_type": "code",
      "source": [
        "L = [11, 12, 13, 14]\n",
        "L.sort(reverse=True)\n",
        "print(L)"
      ],
      "metadata": {
        "colab": {
          "base_uri": "https://localhost:8080/"
        },
        "id": "vDsY0Iah2p8r",
        "outputId": "5c9287ad-683c-4c3e-c887-cc84459e69f1"
      },
      "execution_count": 11,
      "outputs": [
        {
          "output_type": "stream",
          "name": "stdout",
          "text": [
            "[14, 13, 12, 11]\n"
          ]
        }
      ]
    },
    {
      "cell_type": "markdown",
      "source": [
        "(v) WAP to search for 13 in L.\n"
      ],
      "metadata": {
        "id": "9v6kzIhs00uG"
      }
    },
    {
      "cell_type": "code",
      "source": [
        "L = [11, 12, 13, 14]\n",
        "if (13 in L):\n",
        "  print('Present')\n",
        "else:\n",
        "  print('Not Present')"
      ],
      "metadata": {
        "colab": {
          "base_uri": "https://localhost:8080/"
        },
        "id": "zd7tAuGo26or",
        "outputId": "89170d48-799b-472c-d56b-1978c72c5170"
      },
      "execution_count": 12,
      "outputs": [
        {
          "output_type": "stream",
          "name": "stdout",
          "text": [
            "Present\n"
          ]
        }
      ]
    },
    {
      "cell_type": "markdown",
      "source": [
        "(vi) WAP to count the number of elements present in L.\n"
      ],
      "metadata": {
        "id": "mJseBAFZ02gR"
      }
    },
    {
      "cell_type": "code",
      "source": [
        "L = [11, 12, 13, 14]\n",
        "print(len(L))"
      ],
      "metadata": {
        "colab": {
          "base_uri": "https://localhost:8080/"
        },
        "id": "sbDXEQFO3Tqr",
        "outputId": "555e1fca-349f-451a-f226-5bca557f307c"
      },
      "execution_count": 13,
      "outputs": [
        {
          "output_type": "stream",
          "name": "stdout",
          "text": [
            "4\n"
          ]
        }
      ]
    },
    {
      "cell_type": "markdown",
      "source": [
        "(vii) WAP to sum all the elements in L.\n"
      ],
      "metadata": {
        "id": "XsfbTNWw04Gi"
      }
    },
    {
      "cell_type": "code",
      "source": [
        "L = [11, 12, 13, 14]\n",
        "s = 0\n",
        "for i in L:\n",
        "  s += i\n",
        "print('Sum is: ' ,s)"
      ],
      "metadata": {
        "colab": {
          "base_uri": "https://localhost:8080/"
        },
        "id": "QiDJ64Aa3UiP",
        "outputId": "f3862316-2ceb-44bd-891f-8c62ab85a681"
      },
      "execution_count": 17,
      "outputs": [
        {
          "output_type": "stream",
          "name": "stdout",
          "text": [
            "Sum is:  50\n"
          ]
        }
      ]
    },
    {
      "cell_type": "markdown",
      "source": [
        "(viii) WAP to sum all ODD numbers in L.\n"
      ],
      "metadata": {
        "id": "A3MZn0B-05pZ"
      }
    },
    {
      "cell_type": "code",
      "source": [
        "L = [11, 12, 13, 14]\n",
        "s = 0\n",
        "for i in L:\n",
        "  if(i%2!=0):\n",
        "    s += i\n",
        "print('Sum of all odd numbers in L: ',s)"
      ],
      "metadata": {
        "colab": {
          "base_uri": "https://localhost:8080/"
        },
        "id": "-DSUcfjJ3VBh",
        "outputId": "1be144bc-3fbe-4090-e7d3-0fdd9d810a78"
      },
      "execution_count": 16,
      "outputs": [
        {
          "output_type": "stream",
          "name": "stdout",
          "text": [
            "Sum of all odd numbers in L:  24\n"
          ]
        }
      ]
    },
    {
      "cell_type": "markdown",
      "source": [
        "(ix) WAP to sum all EVEN numbers in L.\n"
      ],
      "metadata": {
        "id": "I2jSDCMT1ABd"
      }
    },
    {
      "cell_type": "code",
      "source": [
        "L = [11, 12, 13, 14]\n",
        "s = 0\n",
        "for i in L:\n",
        "  if(i%2==0):\n",
        "    s += i\n",
        "print('Sum of all even numbers in L: ',s)"
      ],
      "metadata": {
        "colab": {
          "base_uri": "https://localhost:8080/"
        },
        "id": "KnLP0yUj4VDc",
        "outputId": "772d8870-64ee-410b-fabd-0fd573eb10cd"
      },
      "execution_count": 18,
      "outputs": [
        {
          "output_type": "stream",
          "name": "stdout",
          "text": [
            "Sum of all even numbers in L:  26\n"
          ]
        }
      ]
    },
    {
      "cell_type": "markdown",
      "source": [
        "(x) WAP to sum all PRIME numbers in L.\n"
      ],
      "metadata": {
        "id": "rR6Nlece1CHw"
      }
    },
    {
      "cell_type": "code",
      "source": [
        "def isprime(n):\n",
        "  for i in range(2, n//2 + 1):\n",
        "    if n%i==0:\n",
        "      return 0\n",
        "  return 1\n",
        "\n",
        "L = [11, 12, 13, 14]\n",
        "s = 0\n",
        "for i in L:\n",
        "  if(isprime(i)==0):\n",
        "    s += i\n",
        "print(\"Sum of all prime numbers in L:\", s)"
      ],
      "metadata": {
        "colab": {
          "base_uri": "https://localhost:8080/"
        },
        "id": "07XCUykZ4dwp",
        "outputId": "356a94f7-88bf-40bf-e807-ff8520c8784b"
      },
      "execution_count": 22,
      "outputs": [
        {
          "output_type": "stream",
          "name": "stdout",
          "text": [
            "Sum of all prime numbers in L: 26\n"
          ]
        }
      ]
    },
    {
      "cell_type": "markdown",
      "source": [
        "(xi) WAP to clear all the elements in L.\n"
      ],
      "metadata": {
        "id": "2PEGFQ2t1Ds4"
      }
    },
    {
      "cell_type": "code",
      "source": [
        "L = [11, 12, 13, 14]\n",
        "print('List before:', L)\n",
        "L.clear()\n",
        "print('List after:', L)"
      ],
      "metadata": {
        "colab": {
          "base_uri": "https://localhost:8080/"
        },
        "id": "QIPXetIn5Xjh",
        "outputId": "43953e84-34f3-4197-c3c4-9c054fe6e076"
      },
      "execution_count": 23,
      "outputs": [
        {
          "output_type": "stream",
          "name": "stdout",
          "text": [
            "List before: [11, 12, 13, 14]\n",
            "List after: []\n"
          ]
        }
      ]
    },
    {
      "cell_type": "markdown",
      "source": [
        "(xii) WAP to delete L."
      ],
      "metadata": {
        "id": "ORcyh6Aj1FIQ"
      }
    },
    {
      "cell_type": "code",
      "source": [
        "L = [11, 12, 13, 14]\n",
        "del L\n",
        "print(L)"
      ],
      "metadata": {
        "colab": {
          "base_uri": "https://localhost:8080/",
          "height": 180
        },
        "id": "eii9tbQX5nvw",
        "outputId": "4780eec7-f149-4350-9063-607aceda93ef"
      },
      "execution_count": 26,
      "outputs": [
        {
          "output_type": "error",
          "ename": "NameError",
          "evalue": "name 'L' is not defined",
          "traceback": [
            "\u001b[0;31m---------------------------------------------------------------------------\u001b[0m",
            "\u001b[0;31mNameError\u001b[0m                                 Traceback (most recent call last)",
            "\u001b[0;32m<ipython-input-26-4226952216>\u001b[0m in \u001b[0;36m<cell line: 0>\u001b[0;34m()\u001b[0m\n\u001b[1;32m      1\u001b[0m \u001b[0mL\u001b[0m \u001b[0;34m=\u001b[0m \u001b[0;34m[\u001b[0m\u001b[0;36m11\u001b[0m\u001b[0;34m,\u001b[0m \u001b[0;36m12\u001b[0m\u001b[0;34m,\u001b[0m \u001b[0;36m13\u001b[0m\u001b[0;34m,\u001b[0m \u001b[0;36m14\u001b[0m\u001b[0;34m]\u001b[0m\u001b[0;34m\u001b[0m\u001b[0;34m\u001b[0m\u001b[0m\n\u001b[1;32m      2\u001b[0m \u001b[0;32mdel\u001b[0m \u001b[0mL\u001b[0m\u001b[0;34m\u001b[0m\u001b[0;34m\u001b[0m\u001b[0m\n\u001b[0;32m----> 3\u001b[0;31m \u001b[0mprint\u001b[0m\u001b[0;34m(\u001b[0m\u001b[0mL\u001b[0m\u001b[0;34m)\u001b[0m\u001b[0;34m\u001b[0m\u001b[0;34m\u001b[0m\u001b[0m\n\u001b[0m",
            "\u001b[0;31mNameError\u001b[0m: name 'L' is not defined"
          ]
        }
      ]
    },
    {
      "cell_type": "markdown",
      "source": [
        "Q2. D is a dictionary defined as D= {1:5.6, 2:7.8, 3:6.6, 4:8.7, 5:7.7}.\n",
        "\n",
        "(i) WAP to add new entry in D; key=8 and value is 8.8\n"
      ],
      "metadata": {
        "id": "Lk0C2B8Y57UI"
      }
    },
    {
      "cell_type": "code",
      "source": [
        "D= {1:5.6, 2:7.8, 3:6.6, 4:8.7, 5:7.7}\n",
        "print('Original List:', D)\n",
        "D[8]=8.8\n",
        "print('List after updation:', D)"
      ],
      "metadata": {
        "colab": {
          "base_uri": "https://localhost:8080/"
        },
        "id": "g-TqJuJV6SUH",
        "outputId": "9f5bdbfc-355b-4e0d-89b7-dc2508452dc1"
      },
      "execution_count": 28,
      "outputs": [
        {
          "output_type": "stream",
          "name": "stdout",
          "text": [
            "Original List: {1: 5.6, 2: 7.8, 3: 6.6, 4: 8.7, 5: 7.7}\n",
            "List after updation: {1: 5.6, 2: 7.8, 3: 6.6, 4: 8.7, 5: 7.7, 8: 8.8}\n"
          ]
        }
      ]
    },
    {
      "cell_type": "markdown",
      "source": [
        "(ii) WAP to remove key=2.\n"
      ],
      "metadata": {
        "id": "HB_rY9mU6DHZ"
      }
    },
    {
      "cell_type": "code",
      "source": [
        "D= {1:5.6, 2:7.8, 3:6.6, 4:8.7, 5:7.7}\n",
        "del D[2]\n",
        "print(D)"
      ],
      "metadata": {
        "colab": {
          "base_uri": "https://localhost:8080/"
        },
        "id": "MbsPWsXd6Swp",
        "outputId": "359906d8-45ef-4660-ad39-009e6179d0c5"
      },
      "execution_count": 29,
      "outputs": [
        {
          "output_type": "stream",
          "name": "stdout",
          "text": [
            "{1: 5.6, 3: 6.6, 4: 8.7, 5: 7.7}\n"
          ]
        }
      ]
    },
    {
      "cell_type": "markdown",
      "source": [
        "(iii) WAP to check whether 6 key is present in D.\n"
      ],
      "metadata": {
        "id": "4cgkgeqh6DZa"
      }
    },
    {
      "cell_type": "code",
      "source": [
        "D= {1:5.6, 2:7.8, 3:6.6, 4:8.7, 5:7.7}\n",
        "print('Is 6 present in D?  -->', 6 in D)"
      ],
      "metadata": {
        "colab": {
          "base_uri": "https://localhost:8080/"
        },
        "id": "-t-QMwJt6TG7",
        "outputId": "fed8dd5c-3660-4b0c-b1fe-d64efc88be0a"
      },
      "execution_count": 30,
      "outputs": [
        {
          "output_type": "stream",
          "name": "stdout",
          "text": [
            "Is 6 present in D?  --> False\n"
          ]
        }
      ]
    },
    {
      "cell_type": "markdown",
      "source": [
        "(iv) WAP to count the number of elements present in D.\n"
      ],
      "metadata": {
        "id": "OLlAfp-Q6Dmr"
      }
    },
    {
      "cell_type": "code",
      "source": [
        "D= {1:5.6, 2:7.8, 3:6.6, 4:8.7, 5:7.7}\n",
        "print('Number of elements in D:', len(D))"
      ],
      "metadata": {
        "colab": {
          "base_uri": "https://localhost:8080/"
        },
        "id": "r-xQF2Y96Tye",
        "outputId": "e621d554-10a4-427a-dd65-ea3e42cd658f"
      },
      "execution_count": 31,
      "outputs": [
        {
          "output_type": "stream",
          "name": "stdout",
          "text": [
            "Number of elements in D: 5\n"
          ]
        }
      ]
    },
    {
      "cell_type": "markdown",
      "source": [
        "(v) WAP to add all the values present D.\n"
      ],
      "metadata": {
        "id": "3qRIVnnf6DzL"
      }
    },
    {
      "cell_type": "code",
      "source": [
        "D= {1:5.6, 2:7.8, 3:6.6, 4:8.7, 5:7.7}\n",
        "s = 0\n",
        "for i in D:\n",
        "  s += D[i]\n",
        "print('The sum of all values in D:', s)"
      ],
      "metadata": {
        "colab": {
          "base_uri": "https://localhost:8080/"
        },
        "id": "NdYWe1Pe6UKv",
        "outputId": "6c73a70d-03b6-4c7b-86ea-a9c2ea1d69c5"
      },
      "execution_count": 32,
      "outputs": [
        {
          "output_type": "stream",
          "name": "stdout",
          "text": [
            "The sum of all values in D: 36.4\n"
          ]
        }
      ]
    },
    {
      "cell_type": "markdown",
      "source": [
        "(vi) WAP to update the value of 3 to 7.1.\n"
      ],
      "metadata": {
        "id": "qkR1m--J6EFe"
      }
    },
    {
      "cell_type": "code",
      "source": [
        "D= {1:5.6, 2:7.8, 3:6.6, 4:8.7, 5:7.7}\n",
        "D[3] = 7.1\n",
        "print(D)"
      ],
      "metadata": {
        "colab": {
          "base_uri": "https://localhost:8080/"
        },
        "id": "QRzFB_mE6UpT",
        "outputId": "2cd7d7e0-2aca-4ba7-e0c0-64f8c19ca16d"
      },
      "execution_count": 33,
      "outputs": [
        {
          "output_type": "stream",
          "name": "stdout",
          "text": [
            "{1: 5.6, 2: 7.8, 3: 7.1, 4: 8.7, 5: 7.7}\n"
          ]
        }
      ]
    },
    {
      "cell_type": "markdown",
      "source": [
        "(vii) WAP to clear the dictionary."
      ],
      "metadata": {
        "id": "xRSZ4NZd6O0J"
      }
    },
    {
      "cell_type": "code",
      "source": [
        "D= {1:5.6, 2:7.8, 3:6.6, 4:8.7, 5:7.7}\n",
        "print('Before -->', D)\n",
        "D.clear()\n",
        "print('After -->', D)"
      ],
      "metadata": {
        "colab": {
          "base_uri": "https://localhost:8080/"
        },
        "id": "BAIMCK3I6VRV",
        "outputId": "f72a8b69-d2e5-4b03-cb18-1e385d45908c"
      },
      "execution_count": 34,
      "outputs": [
        {
          "output_type": "stream",
          "name": "stdout",
          "text": [
            "Before --> {1: 5.6, 2: 7.8, 3: 6.6, 4: 8.7, 5: 7.7}\n",
            "After --> {}\n"
          ]
        }
      ]
    },
    {
      "cell_type": "markdown",
      "source": [
        "Q3. S1 is a set defined as S1= [10, 20, 30, 40, 50, 60].\n",
        "\n",
        "S2 is a set defined as S2= [40, 50, 60, 70, 80, 90].\n",
        "\n",
        "(i) WAP to add 55 and 66 in Set S1.\n"
      ],
      "metadata": {
        "id": "gmTAAk-T7wN4"
      }
    },
    {
      "cell_type": "code",
      "source": [
        "S1 = set([10, 20, 30, 40, 50, 60])\n",
        "S1.add(55)\n",
        "S1.add(66)\n",
        "print(S1)"
      ],
      "metadata": {
        "colab": {
          "base_uri": "https://localhost:8080/"
        },
        "id": "cbUFOG1b8Dvt",
        "outputId": "834e4c1a-31a9-49f7-e745-790c50ec0d3a"
      },
      "execution_count": 41,
      "outputs": [
        {
          "output_type": "stream",
          "name": "stdout",
          "text": [
            "{66, 40, 10, 50, 20, 55, 60, 30}\n"
          ]
        }
      ]
    },
    {
      "cell_type": "markdown",
      "source": [
        "(ii) WAP to remove 10 and 30 from Set S1.\n"
      ],
      "metadata": {
        "id": "vCR_sbOt71bn"
      }
    },
    {
      "cell_type": "code",
      "source": [
        "S1 = set([10, 20, 30, 40, 50, 60])\n",
        "S1.remove(10)\n",
        "S1.remove(30)\n",
        "print(S1)"
      ],
      "metadata": {
        "colab": {
          "base_uri": "https://localhost:8080/"
        },
        "id": "8UD8UuVc83mK",
        "outputId": "b67c1909-c3ea-4050-9a73-d0d4cab2e1d2"
      },
      "execution_count": 42,
      "outputs": [
        {
          "output_type": "stream",
          "name": "stdout",
          "text": [
            "{40, 50, 20, 60}\n"
          ]
        }
      ]
    },
    {
      "cell_type": "markdown",
      "source": [
        "(iii) WAP to check whether 40 is present in S1.\n"
      ],
      "metadata": {
        "id": "7PoE7tdn74UI"
      }
    },
    {
      "cell_type": "code",
      "source": [
        "S1 = set([10, 20, 30, 40, 50, 60])\n",
        "print('Is 40 in S1? -->', 40 in S1)"
      ],
      "metadata": {
        "colab": {
          "base_uri": "https://localhost:8080/"
        },
        "id": "jFJzJVNO9GkS",
        "outputId": "d1b51cc5-acf3-4537-98ba-d17f4db9e809"
      },
      "execution_count": 43,
      "outputs": [
        {
          "output_type": "stream",
          "name": "stdout",
          "text": [
            "Is 40 in S1? --> True\n"
          ]
        }
      ]
    },
    {
      "cell_type": "markdown",
      "source": [
        "(iv) WAP to find the union between S1 and S2.\n"
      ],
      "metadata": {
        "id": "qkxAxbLB75WH"
      }
    },
    {
      "cell_type": "code",
      "source": [
        "S1 = set([10, 20, 30, 40, 50, 60])\n",
        "S2= set([40, 50, 60, 70, 80, 90])\n",
        "print(S1.union(S2))"
      ],
      "metadata": {
        "colab": {
          "base_uri": "https://localhost:8080/"
        },
        "id": "gy6-f-u-9QP7",
        "outputId": "b9c2f3b7-88fa-4fc8-cb01-a21a5af1baee"
      },
      "execution_count": 44,
      "outputs": [
        {
          "output_type": "stream",
          "name": "stdout",
          "text": [
            "{70, 40, 10, 80, 50, 20, 90, 60, 30}\n"
          ]
        }
      ]
    },
    {
      "cell_type": "markdown",
      "source": [
        "(v) WAP to find the intersection between S1 and S2.\n"
      ],
      "metadata": {
        "id": "UG8dIJRo77F1"
      }
    },
    {
      "cell_type": "code",
      "source": [
        "S1 = set([10, 20, 30, 40, 50, 60])\n",
        "S2= set([40, 50, 60, 70, 80, 90])\n",
        "print(S1.intersection(S2))"
      ],
      "metadata": {
        "colab": {
          "base_uri": "https://localhost:8080/"
        },
        "id": "tTUtrRTz9d3P",
        "outputId": "1ad006b6-1222-4204-cca0-96b81e1780d4"
      },
      "execution_count": 45,
      "outputs": [
        {
          "output_type": "stream",
          "name": "stdout",
          "text": [
            "{40, 50, 60}\n"
          ]
        }
      ]
    },
    {
      "cell_type": "markdown",
      "source": [
        "(vi) WAP to find the S1 - S2."
      ],
      "metadata": {
        "id": "osTU-0Ma78fA"
      }
    },
    {
      "cell_type": "code",
      "source": [
        "S1 = set([10, 20, 30, 40, 50, 60])\n",
        "S2= set([40, 50, 60, 70, 80, 90])\n",
        "print(S1-S2)"
      ],
      "metadata": {
        "colab": {
          "base_uri": "https://localhost:8080/"
        },
        "id": "VSLa2sG99iIH",
        "outputId": "cc1f0c49-25e2-4354-abae-084f25461c87"
      },
      "execution_count": 46,
      "outputs": [
        {
          "output_type": "stream",
          "name": "stdout",
          "text": [
            "{10, 20, 30}\n"
          ]
        }
      ]
    },
    {
      "cell_type": "markdown",
      "source": [
        "Q4. Write the following program.\n",
        "\n",
        "(i) WAP to print 100 random strings whose length between 6 and 8.\n"
      ],
      "metadata": {
        "id": "cJo3qAJ09miU"
      }
    },
    {
      "cell_type": "code",
      "source": [
        "import random as r\n",
        "import string as s\n",
        "\n",
        "length= r.randint(6, 8)\n",
        "for i in range(100):\n",
        "  random_string = ''.join(r.sample(s.ascii_letters + s.digits, k=length))\n",
        "  print(i, '->', random_string)"
      ],
      "metadata": {
        "colab": {
          "base_uri": "https://localhost:8080/"
        },
        "id": "h-Wk3mEOAftR",
        "outputId": "ccd2d3a1-d85e-4496-8cb3-839456abfb75"
      },
      "execution_count": 52,
      "outputs": [
        {
          "output_type": "stream",
          "name": "stdout",
          "text": [
            "0 -> yeQTmMK\n",
            "1 -> u12c9gI\n",
            "2 -> kfSuFBW\n",
            "3 -> RdeSIrn\n",
            "4 -> sMcIjvi\n",
            "5 -> NycDZ9p\n",
            "6 -> CbdQR8S\n",
            "7 -> ocuRaJ2\n",
            "8 -> aKXbpod\n",
            "9 -> B2JRFir\n",
            "10 -> BlWFf5z\n",
            "11 -> H8KqaCP\n",
            "12 -> kE46l3u\n",
            "13 -> SKuRyCd\n",
            "14 -> 1gAcWUY\n",
            "15 -> lbndNev\n",
            "16 -> lcR094K\n",
            "17 -> dDUTgia\n",
            "18 -> UdrT51J\n",
            "19 -> S1i9dEA\n",
            "20 -> v2FMD9l\n",
            "21 -> sFawJKx\n",
            "22 -> qVX3ACW\n",
            "23 -> INJHybo\n",
            "24 -> J6UagDt\n",
            "25 -> qVie9yH\n",
            "26 -> XaEd3gJ\n",
            "27 -> 7uP9OpB\n",
            "28 -> EzuNcy6\n",
            "29 -> ITk0Rgm\n",
            "30 -> SQG0raf\n",
            "31 -> jX3JtVo\n",
            "32 -> 1TJDiEZ\n",
            "33 -> BJymbds\n",
            "34 -> KUGnz54\n",
            "35 -> 95otaVy\n",
            "36 -> 793Oo8T\n",
            "37 -> luNT8x4\n",
            "38 -> VW6wnP0\n",
            "39 -> bXOPafj\n",
            "40 -> dEwhMcP\n",
            "41 -> ymtYkrJ\n",
            "42 -> tm1Gxud\n",
            "43 -> 8yWr12w\n",
            "44 -> O59Ifud\n",
            "45 -> eFd1l0b\n",
            "46 -> QYECpRO\n",
            "47 -> ODwnze3\n",
            "48 -> w5p8RdN\n",
            "49 -> yjOA6kJ\n",
            "50 -> aglbGI9\n",
            "51 -> X0E9F5o\n",
            "52 -> duZiI1z\n",
            "53 -> hfR2US1\n",
            "54 -> UDHT6v2\n",
            "55 -> tQnamce\n",
            "56 -> BhbrmKe\n",
            "57 -> fNGWV4X\n",
            "58 -> 62hLsVW\n",
            "59 -> jWmGlzL\n",
            "60 -> YxcP4Vu\n",
            "61 -> dhuPR9A\n",
            "62 -> bNLqx0D\n",
            "63 -> HoiSOsQ\n",
            "64 -> foRVlyz\n",
            "65 -> XMrNsa9\n",
            "66 -> X3SR6f5\n",
            "67 -> JQ7XYug\n",
            "68 -> vPxKhO0\n",
            "69 -> P4kZixs\n",
            "70 -> hUoPFC1\n",
            "71 -> T1QO5zW\n",
            "72 -> r4yQEBJ\n",
            "73 -> XG9zAPj\n",
            "74 -> snhcdUo\n",
            "75 -> 2WQmfIG\n",
            "76 -> Fq5vLQA\n",
            "77 -> l2bMpLG\n",
            "78 -> rQlJ2Un\n",
            "79 -> 8eConIx\n",
            "80 -> rtQP1kg\n",
            "81 -> hAZDrYU\n",
            "82 -> u6fvzLd\n",
            "83 -> azST30r\n",
            "84 -> MrvwLzO\n",
            "85 -> zaoOytV\n",
            "86 -> J3EMoH1\n",
            "87 -> 1D6kxjg\n",
            "88 -> 1iJNTg5\n",
            "89 -> AXZQlaL\n",
            "90 -> KAlDsVe\n",
            "91 -> Pc0GtBa\n",
            "92 -> 7tWHKmU\n",
            "93 -> XtpKHs1\n",
            "94 -> FalCuYT\n",
            "95 -> E2JG6KY\n",
            "96 -> mNydrFB\n",
            "97 -> 89tEug6\n",
            "98 -> cM5fEmz\n",
            "99 -> c5k9fo7\n"
          ]
        }
      ]
    },
    {
      "cell_type": "markdown",
      "source": [
        "(ii) WAP to print all prime numbers between 600 and 800.\n",
        "\n"
      ],
      "metadata": {
        "id": "CHBbHE7AAUU5"
      }
    },
    {
      "cell_type": "code",
      "source": [
        "print(\"Prime numbers between\", 600, \"and\", 800, \"are:\")\n",
        "\n",
        "for num in range(600, 801):\n",
        "   if num > 1:\n",
        "       for i in range(2, num):\n",
        "           if (num % i) == 0:\n",
        "               break\n",
        "       else:\n",
        "           print(num)"
      ],
      "metadata": {
        "colab": {
          "base_uri": "https://localhost:8080/"
        },
        "id": "7B7BEivnCXHF",
        "outputId": "05447e79-cb8c-444b-b0e7-e98be257ecf5"
      },
      "execution_count": 56,
      "outputs": [
        {
          "output_type": "stream",
          "name": "stdout",
          "text": [
            "Prime numbers between 600 and 800 are:\n",
            "601\n",
            "607\n",
            "613\n",
            "617\n",
            "619\n",
            "631\n",
            "641\n",
            "643\n",
            "647\n",
            "653\n",
            "659\n",
            "661\n",
            "673\n",
            "677\n",
            "683\n",
            "691\n",
            "701\n",
            "709\n",
            "719\n",
            "727\n",
            "733\n",
            "739\n",
            "743\n",
            "751\n",
            "757\n",
            "761\n",
            "769\n",
            "773\n",
            "787\n",
            "797\n"
          ]
        }
      ]
    },
    {
      "cell_type": "markdown",
      "source": [
        "(iii) WAP to print all numbers between 100 and 1000 that are divisible by 7 and 9."
      ],
      "metadata": {
        "id": "SFAOvIf-AWJL"
      }
    },
    {
      "cell_type": "code",
      "source": [
        "for i in range(100, 1001):\n",
        "  if i % 7 == 0 and i % 9 == 0:\n",
        "    print(i)"
      ],
      "metadata": {
        "colab": {
          "base_uri": "https://localhost:8080/"
        },
        "id": "MC6gY9F6D2Ds",
        "outputId": "a24eb92d-4070-422f-a9fa-125f7a599127"
      },
      "execution_count": 61,
      "outputs": [
        {
          "output_type": "stream",
          "name": "stdout",
          "text": [
            "126\n",
            "189\n",
            "252\n",
            "315\n",
            "378\n",
            "441\n",
            "504\n",
            "567\n",
            "630\n",
            "693\n",
            "756\n",
            "819\n",
            "882\n",
            "945\n"
          ]
        }
      ]
    },
    {
      "cell_type": "markdown",
      "source": [
        "Q5. WAP to create two lists of 10 random numbers between 10 and 30; Find\n",
        "\n",
        "(i) Common numbers in the two lists\n"
      ],
      "metadata": {
        "id": "Fl9UiwxuFNSZ"
      }
    },
    {
      "cell_type": "code",
      "source": [
        "import random as r\n",
        "\n",
        "l1 = r.sample(range(10,31),10)\n",
        "l2 = r.sample(range(10,31),10)\n",
        "print(l1)\n",
        "print(l2)\n",
        "\n",
        "print('Common numbers in list 1 and list 2:',list(set(l1)&set(l2)))"
      ],
      "metadata": {
        "colab": {
          "base_uri": "https://localhost:8080/"
        },
        "id": "Okh0SWnwFUHs",
        "outputId": "28e3b6d6-f868-4baf-a920-b1d2a996a89d"
      },
      "execution_count": 67,
      "outputs": [
        {
          "output_type": "stream",
          "name": "stdout",
          "text": [
            "[24, 16, 10, 13, 17, 27, 26, 29, 25, 18]\n",
            "[12, 28, 24, 17, 13, 27, 11, 15, 19, 23]\n",
            "Common numbers in list 1 and list 2: [24, 17, 27, 13]\n"
          ]
        }
      ]
    },
    {
      "cell_type": "markdown",
      "source": [
        "(ii) Unique numbers in both the list\n"
      ],
      "metadata": {
        "id": "r1CeU7PSGRSS"
      }
    },
    {
      "cell_type": "code",
      "source": [
        "import random as r\n",
        "\n",
        "l1 = r.sample(range(10,31),10)\n",
        "l2 = r.sample(range(10,31),10)\n",
        "print(l1)\n",
        "print(l2)\n",
        "\n",
        "print('Unique numbers in both lists:', list(set(l1+l2)))"
      ],
      "metadata": {
        "colab": {
          "base_uri": "https://localhost:8080/"
        },
        "id": "jThK40nHG8uS",
        "outputId": "807f6aee-8f8f-48f3-da8d-3491fcbe27f5"
      },
      "execution_count": 72,
      "outputs": [
        {
          "output_type": "stream",
          "name": "stdout",
          "text": [
            "[17, 30, 29, 12, 11, 27, 20, 25, 18, 13]\n",
            "[10, 11, 14, 18, 22, 24, 29, 12, 13, 16]\n",
            "Unique numbers in both lists: [10, 11, 12, 13, 14, 16, 17, 18, 20, 22, 24, 25, 27, 29, 30]\n"
          ]
        }
      ]
    },
    {
      "cell_type": "markdown",
      "source": [
        "(iii) Minimum in both the list\n"
      ],
      "metadata": {
        "id": "CuYd9YBDGUJM"
      }
    },
    {
      "cell_type": "code",
      "source": [
        "import random as r\n",
        "\n",
        "l1 = r.sample(range(10,31),10)\n",
        "l2 = r.sample(range(10,31),10)\n",
        "print(l1)\n",
        "print(l2)\n",
        "\n",
        "print('Minimum in list 1:', min(l1))\n",
        "print('Minimum in list 2:', min(l2))"
      ],
      "metadata": {
        "colab": {
          "base_uri": "https://localhost:8080/"
        },
        "id": "h2w57M1eHe7P",
        "outputId": "7603d489-b3bb-4c5e-dbb8-666d1bde34b9"
      },
      "execution_count": 73,
      "outputs": [
        {
          "output_type": "stream",
          "name": "stdout",
          "text": [
            "[25, 19, 16, 27, 24, 23, 17, 26, 18, 29]\n",
            "[28, 22, 23, 19, 18, 16, 25, 29, 21, 20]\n",
            "Minimum in list 1: 16\n",
            "Minimum in list 2: 16\n"
          ]
        }
      ]
    },
    {
      "cell_type": "markdown",
      "source": [
        "(iv) Maximum in both the list\n"
      ],
      "metadata": {
        "id": "KDKlgXaeGXdI"
      }
    },
    {
      "cell_type": "code",
      "source": [
        "import random as r\n",
        "\n",
        "l1 = r.sample(range(10,31),10)\n",
        "l2 = r.sample(range(10,31),10)\n",
        "print(l1)\n",
        "print(l2)\n",
        "\n",
        "print('Maximum in list 1:', max(l1))\n",
        "print('Maximum in list 2:', max(l2))"
      ],
      "metadata": {
        "colab": {
          "base_uri": "https://localhost:8080/"
        },
        "id": "v973JNB5HsFw",
        "outputId": "d84b973a-69b2-43ce-a8aa-b5e2754922db"
      },
      "execution_count": 74,
      "outputs": [
        {
          "output_type": "stream",
          "name": "stdout",
          "text": [
            "[26, 14, 28, 12, 27, 17, 29, 10, 11, 22]\n",
            "[16, 13, 25, 29, 21, 30, 22, 23, 24, 11]\n",
            "Maximum in list 1: 29\n",
            "Maximum in list 2: 30\n"
          ]
        }
      ]
    },
    {
      "cell_type": "markdown",
      "source": [
        "(v) Sum of both the lists"
      ],
      "metadata": {
        "id": "-x93mIghGZD0"
      }
    },
    {
      "cell_type": "code",
      "source": [
        "import random as r\n",
        "\n",
        "l1 = r.sample(range(10,31),10)\n",
        "l2 = r.sample(range(10,31),10)\n",
        "print(l1)\n",
        "print(l2)\n",
        "\n",
        "s1 = 0\n",
        "s2 = 0\n",
        "\n",
        "for i in l1:\n",
        "  s1 += i\n",
        "\n",
        "for i in l2:\n",
        "  s2+=i\n",
        "\n",
        "s = s1+s2\n",
        "print('Sum of both the lists:',s)"
      ],
      "metadata": {
        "colab": {
          "base_uri": "https://localhost:8080/"
        },
        "id": "eWOb_Jn0H0dI",
        "outputId": "63087f92-cbc9-4b39-bb51-dd44f221f896"
      },
      "execution_count": 79,
      "outputs": [
        {
          "output_type": "stream",
          "name": "stdout",
          "text": [
            "[16, 18, 11, 25, 13, 20, 19, 15, 28, 21]\n",
            "[25, 24, 27, 28, 18, 12, 29, 20, 14, 22]\n",
            "Sum of both the lists: 405\n"
          ]
        }
      ]
    },
    {
      "cell_type": "markdown",
      "source": [
        "Q6. WAP to create a list of 100 random numbers between 100 and 900. Count and print the:\n",
        "\n",
        "(i) All odd numbers"
      ],
      "metadata": {
        "id": "fmkbr2GrIofG"
      }
    },
    {
      "cell_type": "code",
      "source": [
        "import random as r\n",
        "\n",
        "l1 = r.sample(range(100,901),100)\n",
        "\n",
        "count = 0\n",
        "for i in l1:\n",
        "  if(i%2 != 0):\n",
        "    print(i)\n",
        "    count += 1\n",
        "print(\"Number of odd numbers in list 1:\", count)"
      ],
      "metadata": {
        "colab": {
          "base_uri": "https://localhost:8080/"
        },
        "id": "WCPw-EieIvGc",
        "outputId": "abde5e33-dbf4-470e-f85a-3e8cf908b9fd"
      },
      "execution_count": 81,
      "outputs": [
        {
          "output_type": "stream",
          "name": "stdout",
          "text": [
            "387\n",
            "293\n",
            "697\n",
            "205\n",
            "577\n",
            "147\n",
            "677\n",
            "301\n",
            "727\n",
            "559\n",
            "243\n",
            "879\n",
            "799\n",
            "881\n",
            "391\n",
            "499\n",
            "871\n",
            "571\n",
            "875\n",
            "737\n",
            "641\n",
            "151\n",
            "483\n",
            "429\n",
            "723\n",
            "259\n",
            "263\n",
            "475\n",
            "765\n",
            "171\n",
            "543\n",
            "665\n",
            "587\n",
            "651\n",
            "279\n",
            "839\n",
            "829\n",
            "719\n",
            "785\n",
            "669\n",
            "767\n",
            "495\n",
            "183\n",
            "445\n",
            "403\n",
            "639\n",
            "447\n",
            "131\n",
            "763\n",
            "127\n",
            "687\n",
            "Number of odd numbers in list 1: 51\n"
          ]
        }
      ]
    },
    {
      "cell_type": "markdown",
      "source": [
        "(ii) All even numbers\n"
      ],
      "metadata": {
        "id": "NEv9X1RKI85e"
      }
    },
    {
      "cell_type": "code",
      "source": [
        "import random as r\n",
        "\n",
        "l1 = r.sample(range(100,901),100)\n",
        "\n",
        "count = 0\n",
        "for i in l1:\n",
        "  if(i%2 == 0):\n",
        "    print(i)\n",
        "    count += 1\n",
        "print(\"Number of even numbers in list 1:\", count)"
      ],
      "metadata": {
        "colab": {
          "base_uri": "https://localhost:8080/"
        },
        "id": "FQqNHgg0Jd_D",
        "outputId": "fdb26c8a-98f9-405a-d08b-bcbede5ef5f1"
      },
      "execution_count": 82,
      "outputs": [
        {
          "output_type": "stream",
          "name": "stdout",
          "text": [
            "466\n",
            "516\n",
            "594\n",
            "706\n",
            "304\n",
            "174\n",
            "278\n",
            "642\n",
            "472\n",
            "540\n",
            "518\n",
            "632\n",
            "736\n",
            "430\n",
            "194\n",
            "572\n",
            "246\n",
            "266\n",
            "810\n",
            "232\n",
            "190\n",
            "136\n",
            "206\n",
            "664\n",
            "328\n",
            "116\n",
            "534\n",
            "260\n",
            "506\n",
            "428\n",
            "164\n",
            "170\n",
            "290\n",
            "186\n",
            "106\n",
            "212\n",
            "624\n",
            "342\n",
            "614\n",
            "410\n",
            "480\n",
            "396\n",
            "320\n",
            "258\n",
            "438\n",
            "864\n",
            "344\n",
            "744\n",
            "Number of even numbers in list 1: 48\n"
          ]
        }
      ]
    },
    {
      "cell_type": "markdown",
      "source": [
        "(iii) All prime numbers"
      ],
      "metadata": {
        "id": "_acwM5MgI_Ar"
      }
    },
    {
      "cell_type": "code",
      "source": [
        "import random as r\n",
        "\n",
        "def IsPrime(n):\n",
        "\tfor i in range(2, n//2 + 1):\n",
        "\t\tif n%i==0:\n",
        "\t\t\treturn 0\n",
        "\treturn 1\n",
        "\n",
        "l1 = r.sample(range(100,901),100)\n",
        "\n",
        "count = 0\n",
        "for i in l1:\n",
        "  if(isprime(i)==0):\n",
        "    print(i)\n",
        "    count += 1\n",
        "print(\"Number of prime numbers in list 1:\", count)"
      ],
      "metadata": {
        "colab": {
          "base_uri": "https://localhost:8080/"
        },
        "id": "u3Oqf-8uKGzp",
        "outputId": "e6bb0268-e4a2-4add-fc1c-4288a4433e50"
      },
      "execution_count": 83,
      "outputs": [
        {
          "output_type": "stream",
          "name": "stdout",
          "text": [
            "268\n",
            "458\n",
            "450\n",
            "507\n",
            "849\n",
            "447\n",
            "436\n",
            "432\n",
            "489\n",
            "160\n",
            "154\n",
            "212\n",
            "246\n",
            "889\n",
            "597\n",
            "344\n",
            "168\n",
            "342\n",
            "321\n",
            "238\n",
            "232\n",
            "164\n",
            "533\n",
            "427\n",
            "106\n",
            "118\n",
            "708\n",
            "372\n",
            "892\n",
            "721\n",
            "434\n",
            "612\n",
            "266\n",
            "493\n",
            "330\n",
            "716\n",
            "392\n",
            "586\n",
            "390\n",
            "799\n",
            "346\n",
            "655\n",
            "696\n",
            "169\n",
            "772\n",
            "890\n",
            "352\n",
            "144\n",
            "670\n",
            "261\n",
            "546\n",
            "387\n",
            "278\n",
            "424\n",
            "384\n",
            "455\n",
            "856\n",
            "473\n",
            "591\n",
            "135\n",
            "838\n",
            "818\n",
            "441\n",
            "364\n",
            "585\n",
            "511\n",
            "482\n",
            "562\n",
            "146\n",
            "358\n",
            "134\n",
            "382\n",
            "201\n",
            "286\n",
            "322\n",
            "500\n",
            "568\n",
            "161\n",
            "304\n",
            "231\n",
            "869\n",
            "742\n",
            "522\n",
            "Number of odd numbers in list 1: 83\n"
          ]
        }
      ]
    },
    {
      "cell_type": "markdown",
      "source": [
        "Q7. D is a dictionary defined as D={1:\"One\",2:\"Two\",3:\"Three\",4:\"Four\", 5:\"Five\"}.\n",
        "\n",
        "WAP to read all the keys and values from dictionary and write to the file in the given below format.\n",
        "\n",
        "Key1, Value1\n",
        "\n",
        "Key2, Value2\n",
        "\n",
        "Key3, Value3"
      ],
      "metadata": {
        "id": "SJkBra_FM7ER"
      }
    },
    {
      "cell_type": "code",
      "source": [
        "D={1:\"One\",2:\"Two\",3:\"Three\",4:\"Four\", 5:\"Five\"}\n",
        "f1 = open('test.txt','w')\n",
        "for i in D:\n",
        "  f1.write(str(i)+ '->'+ str(D[i])+ '\\n')\n",
        "f1.close()\n",
        "print(\"Done!\")"
      ],
      "metadata": {
        "colab": {
          "base_uri": "https://localhost:8080/"
        },
        "id": "wXRn7rOvNCJv",
        "outputId": "399e8e15-160a-43be-fcfe-08bf4026ec92"
      },
      "execution_count": 86,
      "outputs": [
        {
          "output_type": "stream",
          "name": "stdout",
          "text": [
            "Done!\n"
          ]
        }
      ]
    },
    {
      "cell_type": "markdown",
      "source": [
        "Q8. L is a list defined as L={\"One\",\"Two\",\"Three\",\"Four\",\"Five\"}.\n",
        "\n",
        "WAP to count the length of reach element from a list and write to the file in the given below format:\n",
        "\n",
        "One, 3\n",
        "\n",
        "Two, 3\n",
        "\n",
        "Four, 4"
      ],
      "metadata": {
        "id": "XeEd-_h9NwbV"
      }
    },
    {
      "cell_type": "code",
      "source": [
        "L = ['One', 'Two', 'Four', 'Five']\n",
        "f1 = open('test1.txt', 'w')\n",
        "for i in L:\n",
        "  f1.write(str(i) + '->' + str(len(i)) + '\\n')\n",
        "print('Done.')"
      ],
      "metadata": {
        "colab": {
          "base_uri": "https://localhost:8080/"
        },
        "id": "KY25bdi6N17h",
        "outputId": "a3a99b2c-3db7-434c-cf3d-e002e38c22cc"
      },
      "execution_count": 89,
      "outputs": [
        {
          "output_type": "stream",
          "name": "stdout",
          "text": [
            "Done.\n"
          ]
        }
      ]
    },
    {
      "cell_type": "markdown",
      "source": [
        "Q9. Write to the file 100 random strings whose length between 10 and 15."
      ],
      "metadata": {
        "id": "mw1289yKPkyF"
      }
    },
    {
      "cell_type": "code",
      "source": [
        "import random as r\n",
        "import string as s\n",
        "\n",
        "f1 = open('test3.txt', 'w')\n",
        "length= r.randint(10, 16)\n",
        "for i in range(100):\n",
        "  random_string = ''.join(r.sample(s.ascii_letters + s.digits, k=length))\n",
        "  f1.write(random_string + '\\n')\n",
        "print('Done')"
      ],
      "metadata": {
        "colab": {
          "base_uri": "https://localhost:8080/"
        },
        "id": "JV5_kgyGPmbb",
        "outputId": "f0ee32dd-c505-4aa0-e522-1451f32889c0"
      },
      "execution_count": 93,
      "outputs": [
        {
          "output_type": "stream",
          "name": "stdout",
          "text": [
            "Done\n"
          ]
        }
      ]
    },
    {
      "cell_type": "markdown",
      "source": [
        "Q10. Write to the file all prime numbers between 600 and 800."
      ],
      "metadata": {
        "id": "SK2-UbAaQtwS"
      }
    },
    {
      "cell_type": "code",
      "source": [
        "def IsPrime(n):\n",
        "\tfor i in range(2, n//2 + 1):\n",
        "\t\tif n%i==0:\n",
        "\t\t\treturn 0\n",
        "\treturn 1\n",
        "\n",
        "f1 = open('test4.txt', 'w')\n",
        "for i in range(600, 801):\n",
        "  if(IsPrime(i)==0):\n",
        "    f1.write(str(i) + '\\n')\n",
        "print('Done')"
      ],
      "metadata": {
        "colab": {
          "base_uri": "https://localhost:8080/"
        },
        "id": "ZOErxhD9QtFm",
        "outputId": "01829e12-2e26-48ba-ef6a-255f4392fae9"
      },
      "execution_count": 95,
      "outputs": [
        {
          "output_type": "stream",
          "name": "stdout",
          "text": [
            "Done\n"
          ]
        }
      ]
    },
    {
      "cell_type": "markdown",
      "source": [
        "Q11. WAP to calculate the time taken by a program."
      ],
      "metadata": {
        "id": "D9EgTs7-RTTP"
      }
    },
    {
      "cell_type": "code",
      "source": [
        "import time\n",
        "\n",
        "start = time.time()\n",
        "\n",
        "for i in range(5):\n",
        "    print(\"Hello!\")\n",
        "\n",
        "time.sleep(1)\n",
        "end = time.time()\n",
        "\n",
        "print(f\"Total runtime of the program is {end - start} seconds\")"
      ],
      "metadata": {
        "colab": {
          "base_uri": "https://localhost:8080/"
        },
        "id": "07P5UYkNRVBw",
        "outputId": "3aee2a35-e9b0-45bc-8fb3-1073d653d234"
      },
      "execution_count": 96,
      "outputs": [
        {
          "output_type": "stream",
          "name": "stdout",
          "text": [
            "Hello!\n",
            "Hello!\n",
            "Hello!\n",
            "Hello!\n",
            "Hello!\n",
            "Total runtime of the program is 1.0003743171691895 seconds\n"
          ]
        }
      ]
    },
    {
      "cell_type": "markdown",
      "source": [
        "Q12. WAP to sort following number of elements in a list, calculate time taken and plot the graph.\n",
        "\n",
        "Number of elements in list  Time Taken\n",
        "\n",
        "5k                             T1\n",
        "\n",
        "10k                            T2\n",
        "\n",
        "15k                            T3\n",
        "\n",
        "20k                            T4\n",
        "\n",
        "25k                            T5"
      ],
      "metadata": {
        "id": "6-3coeh3RkXX"
      }
    },
    {
      "cell_type": "code",
      "source": [
        "import time\n",
        "import random\n",
        "import matplotlib.pyplot as plt\n",
        "\n",
        "def merge_sort(arr):\n",
        "    if len(arr) <= 1:\n",
        "        return arr\n",
        "    mid = len(arr) // 2\n",
        "    left = arr[:mid]\n",
        "    right = arr[mid:]\n",
        "    left = merge_sort(left)\n",
        "    right = merge_sort(right)\n",
        "    return merge(left, right)\n",
        "\n",
        "def merge(left, right):\n",
        "    merged = []\n",
        "    i = j = 0\n",
        "    while i < len(left) and j < len(right):\n",
        "        if left[i] < right[j]:\n",
        "            merged.append(left[i])\n",
        "            i += 1\n",
        "        else:\n",
        "            merged.append(right[j])\n",
        "            j += 1\n",
        "    merged.extend(left[i:])\n",
        "    merged.extend(right[j:])\n",
        "    return merged\n",
        "\n",
        "list_sizes = [5000, 10000, 15000, 20000, 25000]\n",
        "times = []\n",
        "\n",
        "for size in list_sizes:\n",
        "    my_list = [random.randint(0, 100000) for _ in range(size)]\n",
        "    start_time = time.time()\n",
        "    merge_sort(my_list)\n",
        "    end_time = time.time()\n",
        "    times.append(end_time - start_time)\n",
        "\n",
        "plt.plot(list_sizes, times, marker='o')\n",
        "plt.xlabel(\"Number of elements in list\")\n",
        "plt.ylabel(\"Time Taken (seconds)\")\n",
        "plt.title(\"Sorting Time vs. List Size\")\n",
        "plt.grid(True)\n",
        "plt.show()"
      ],
      "metadata": {
        "colab": {
          "base_uri": "https://localhost:8080/",
          "height": 472
        },
        "id": "EG_ZOlV3SBul",
        "outputId": "044770c7-daf6-47d2-85c5-b66dc8808601"
      },
      "execution_count": 97,
      "outputs": [
        {
          "output_type": "display_data",
          "data": {
            "text/plain": [
              "<Figure size 640x480 with 1 Axes>"
            ],
            "image/png": "[encoded data removed]"
          },
          "metadata": {}
        }
      ]
    },
    {
      "cell_type": "markdown",
      "source": [
        "Q13. WAP to create a dictionary of student marks in five subjects and you have to find the student\n",
        "having maximum and minimum average marks."
      ],
      "metadata": {
        "id": "p16UcFjYSeuZ"
      }
    },
    {
      "cell_type": "code",
      "source": [
        "students = {\"Alice\": [85, 78, 92, 88, 76],\"Bob\": [72, 65, 70, 68, 74],\n",
        "    \"Charlie\": [90, 95, 92, 88, 94],\"David\": [60, 58, 62, 55, 59],\n",
        "    \"Eva\": [80, 82, 85, 84, 81]\n",
        "}\n",
        "\n",
        "average_marks = {}\n",
        "\n",
        "for student, marks in students.items():\n",
        "    total = 0\n",
        "    for mark in marks:\n",
        "        total += mark\n",
        "    avg = total / len(marks)\n",
        "    average_marks[student] = avg\n",
        "\n",
        "max_student = max(average_marks, key=average_marks.get)\n",
        "min_student = min(average_marks, key=average_marks.get)\n",
        "\n",
        "print(f\"Student with maximum average marks: {max_student} ({average_marks[max_student]:.2f})\")\n",
        "print(f\"Student with minimum average marks: {min_student} ({average_marks[min_student]:.2f})\")\n"
      ],
      "metadata": {
        "colab": {
          "base_uri": "https://localhost:8080/"
        },
        "id": "JQnffAZRSfzP",
        "outputId": "2af62fbc-70fb-43cb-d595-c2202999606e"
      },
      "execution_count": 110,
      "outputs": [
        {
          "output_type": "stream",
          "name": "stdout",
          "text": [
            "Student with maximum average marks: Charlie (91.80)\n",
            "Student with minimum average marks: David (58.80)\n"
          ]
        }
      ]
    }
  ]
}